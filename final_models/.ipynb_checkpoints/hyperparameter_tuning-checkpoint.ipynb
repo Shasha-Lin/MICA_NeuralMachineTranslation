{
 "cells": [
  {
   "cell_type": "code",
   "execution_count": 1,
   "metadata": {
    "collapsed": true
   },
   "outputs": [],
   "source": [
    "import numpy as np\n",
    "import random "
   ]
  },
  {
   "cell_type": "code",
   "execution_count": 2,
   "metadata": {
    "collapsed": false
   },
   "outputs": [
    {
     "name": "stdout",
     "output_type": "stream",
     "text": [
      "[0.0002028661659959886, 0.0001375339448105135, 0.0002596525907849301, 0.0003818259229555714, 0.00041094643965865804]\n",
      "[747, 992, 586, 797, 698]\n",
      "[659, 682, 721, 807, 767]\n",
      "[15, 10, 18, 14, 13]\n",
      "['Bahdanau', 'Bahdanau', 'Bahdanau', 'Bahdanau', 'Luong']\n",
      "['seq2seq', 'bpe2char', 'seq2seq', 'seq2seq', 'seq2seq']\n"
     ]
    }
   ],
   "source": [
    "learning_rate = []\n",
    "embed_size = []\n",
    "hidden_size = []\n",
    "k_beam_search = []\n",
    "attention = []\n",
    "model_type = []\n",
    "for i in range(5):\n",
    "    learning_rate.append(np.random.uniform(0.0001, 0.001))\n",
    "    embed_size.append(random.randint(500, 1001))\n",
    "    hidden_size.append(random.randint(512, 1024))\n",
    "    k_beam_search.append(random.randint(5, 18))\n",
    "    attention.append(random.choice((\"Bahdanau\", \"Luong\")))\n",
    "    model_type.append(random.choice(('seq2seq', 'bpe2bpe', 'bpe2char')))\n",
    "\n",
    "print(learning_rate)\n",
    "print(embed_size)\n",
    "print(hidden_size)\n",
    "print(k_beam_search)\n",
    "print(attention)\n",
    "print(model_type)"
   ]
  },
  {
   "cell_type": "code",
   "execution_count": null,
   "metadata": {
    "collapsed": true
   },
   "outputs": [],
   "source": []
  }
 ],
 "metadata": {
  "anaconda-cloud": {},
  "kernelspec": {
   "display_name": "Python [default]",
   "language": "python",
   "name": "python3"
  },
  "language_info": {
   "codemirror_mode": {
    "name": "ipython",
    "version": 3
   },
   "file_extension": ".py",
   "mimetype": "text/x-python",
   "name": "python",
   "nbconvert_exporter": "python",
   "pygments_lexer": "ipython3",
   "version": "3.5.2"
  }
 },
 "nbformat": 4,
 "nbformat_minor": 1
}
