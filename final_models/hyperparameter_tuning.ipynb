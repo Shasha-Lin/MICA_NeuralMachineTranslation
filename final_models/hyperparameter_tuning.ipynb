{
 "cells": [
  {
   "cell_type": "code",
   "execution_count": 1,
   "metadata": {
    "collapsed": true
   },
   "outputs": [],
   "source": [
    "import numpy as np\n",
    "import random "
   ]
  },
  {
   "cell_type": "code",
   "execution_count": 9,
   "metadata": {},
   "outputs": [
    {
     "name": "stdout",
     "output_type": "stream",
     "text": [
      "[0.000550210886572577, 0.000606584134978647, 0.000578403956751536, 0.0007150852188550195, 0.0007495620555736044]\n",
      "[990, 566, 914, 510, 504]\n",
      "[783, 717, 593, 895, 876]\n",
      "[8, 15, 7, 6, 14]\n",
      "['Bahdanau', 'Bahdanau', 'Bahdanau', 'Bahdanau', 'Bahdanau']\n",
      "['bpe2char', 'bpe2char', 'bpe2char', 'bpe2bpe', 'bpe2bpe']\n"
     ]
    }
   ],
   "source": [
    "learning_rate = []\n",
    "embed_size = []\n",
    "hidden_size = []\n",
    "k_beam_search = []\n",
    "attention = []\n",
    "model_type = []\n",
    "for i in range(5):\n",
    "    learning_rate.append(np.random.uniform(0.0001, 0.001))\n",
    "    embed_size.append(random.randint(500, 1001))\n",
    "    hidden_size.append(random.randint(512, 1024))\n",
    "    k_beam_search.append(random.randint(5, 18))\n",
    "    attention.append(random.choice((\"Bahdanau\", \"Luong\")))\n",
    "    model_type.append(random.choice(('seq2seq', 'bpe2bpe', 'bpe2char')))\n",
    "\n",
    "print(learning_rate)\n",
    "print(embed_size)\n",
    "print(hidden_size)\n",
    "print(k_beam_search)\n",
    "print(attention)\n",
    "print(model_type)"
   ]
  },
  {
   "cell_type": "code",
   "execution_count": null,
   "metadata": {
    "collapsed": true
   },
   "outputs": [],
   "source": []
  }
 ],
 "metadata": {
  "anaconda-cloud": {},
  "kernelspec": {
   "display_name": "Python 3",
   "language": "python",
   "name": "python3"
  },
  "language_info": {
   "codemirror_mode": {
    "name": "ipython",
    "version": 3
   },
   "file_extension": ".py",
   "mimetype": "text/x-python",
   "name": "python",
   "nbconvert_exporter": "python",
   "pygments_lexer": "ipython3",
   "version": "3.6.1"
  }
 },
 "nbformat": 4,
 "nbformat_minor": 1
}
