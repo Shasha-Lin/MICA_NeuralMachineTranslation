{
 "cells": [
  {
   "cell_type": "code",
   "execution_count": 1,
   "metadata": {
    "collapsed": true
   },
   "outputs": [],
   "source": [
    "import numpy as np\n",
    "import random "
   ]
  },
  {
   "cell_type": "code",
   "execution_count": 3,
   "metadata": {
    "collapsed": false
   },
   "outputs": [
    {
     "name": "stdout",
     "output_type": "stream",
     "text": [
<<<<<<< HEAD
      "[0.00032326240351745317, 0.00045563034364695177, 0.0005703425942319644, 0.00020479986754227145, 0.0005020158394392299]\n",
      "[617, 915, 658, 817, 664]\n",
      "[774, 561, 788, 786, 919]\n",
      "[9, 11, 15, 9, 9]\n",
      "['Luong', 'Luong', 'Bahdanau', 'Bahdanau', 'Luong']\n",
      "['bpe2bpe', 'bpe2char', 'bpe2char', 'seq2seq', 'bpe2char']\n"
=======
      "[0.0006269553993919688, 0.0006365992952734815, 0.0005233574879522062, 0.00015503100594810632, 0.0005610233117076261]\n",
      "[928, 882, 972, 826, 889]\n",
      "[12, 7, 18, 15, 17]\n",
      "['Bahdanau', 'Bahdanau', 'Luong', 'Bahdanau', 'Bahdanau']\n",
      "['bpe2char', 'seq2seq', 'bpe2char', 'bpe2char', 'bpe2char']\n"
>>>>>>> 4d40d0a307102d5e45e15c4e769c56144c333fc9
     ]
    }
   ],
   "source": [
    "learning_rate = []\n",
    "hidden_size = []\n",
    "k_beam_search = []\n",
    "attention = []\n",
    "model_type = []\n",
    "for i in range(5):\n",
    "    learning_rate.append(np.random.uniform(0.0001, 0.001))\n",
    "    hidden_size.append(random.randint(512, 1024))\n",
    "    k_beam_search.append(random.randint(5, 18))\n",
    "    attention.append(random.choice((\"Bahdanau\", \"Luong\")))\n",
    "    model_type.append(random.choice(('seq2seq', 'bpe2bpe', 'bpe2char')))\n",
    "\n",
    "print(learning_rate)\n",
    "print(hidden_size)\n",
    "print(k_beam_search)\n",
    "print(attention)\n",
    "print(model_type)"
   ]
<<<<<<< HEAD
  },
  {
   "cell_type": "code",
   "execution_count": null,
   "metadata": {
    "collapsed": true
   },
   "outputs": [],
   "source": [
    "0.0002028661659959886 0.0001375339448105135 0.0002596525907849301 0.0003818259229555714 0.00041094643965865804"
   ]
=======
>>>>>>> 4d40d0a307102d5e45e15c4e769c56144c333fc9
  }
 ],
 "metadata": {
  "anaconda-cloud": {},
  "kernelspec": {
   "display_name": "Python [default]",
   "language": "python",
   "name": "python3"
  },
  "language_info": {
   "codemirror_mode": {
    "name": "ipython",
    "version": 3
   },
   "file_extension": ".py",
   "mimetype": "text/x-python",
   "name": "python",
   "nbconvert_exporter": "python",
   "pygments_lexer": "ipython3",
<<<<<<< HEAD
   "version": "3.5.2"
=======
   "version": "3.5.4"
>>>>>>> 4d40d0a307102d5e45e15c4e769c56144c333fc9
  }
 },
 "nbformat": 4,
 "nbformat_minor": 1
}
