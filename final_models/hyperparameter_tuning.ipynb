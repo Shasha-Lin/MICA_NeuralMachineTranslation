{
 "cells": [
  {
   "cell_type": "code",
   "execution_count": 1,
   "metadata": {
    "collapsed": true
   },
   "outputs": [],
   "source": [
    "import numpy as np\n",
    "import random "
   ]
  },
  {
   "cell_type": "code",
   "execution_count": 3,
   "metadata": {
    "collapsed": false
   },
   "outputs": [
    {
     "name": "stdout",
     "output_type": "stream",
     "text": [
      "[0.0006269553993919688, 0.0006365992952734815, 0.0005233574879522062, 0.00015503100594810632, 0.0005610233117076261]\n",
      "[928, 882, 972, 826, 889]\n",
      "[12, 7, 18, 15, 17]\n",
      "['Bahdanau', 'Bahdanau', 'Luong', 'Bahdanau', 'Bahdanau']\n",
      "['bpe2char', 'seq2seq', 'bpe2char', 'bpe2char', 'bpe2char']\n"
     ]
    }
   ],
   "source": [
    "learning_rate = []\n",
    "hidden_size = []\n",
    "k_beam_search = []\n",
    "attention = []\n",
    "model_type = []\n",
    "for i in range(5):\n",
    "    learning_rate.append(np.random.uniform(0.0001, 0.001))\n",
    "    hidden_size.append(random.randint(512, 1024))\n",
    "    k_beam_search.append(random.randint(5, 18))\n",
    "    attention.append(random.choice((\"Bahdanau\", \"Luong\")))\n",
    "    model_type.append(random.choice(('seq2seq', 'bpe2bpe', 'bpe2char')))\n",
    "\n",
    "print(learning_rate)\n",
    "print(hidden_size)\n",
    "print(k_beam_search)\n",
    "print(attention)\n",
    "print(model_type)"
   ]
  }
 ],
 "metadata": {
  "anaconda-cloud": {},
  "kernelspec": {
   "display_name": "Python 3",
   "language": "python",
   "name": "python3"
  },
  "language_info": {
   "codemirror_mode": {
    "name": "ipython",
    "version": 3
   },
   "file_extension": ".py",
   "mimetype": "text/x-python",
   "name": "python",
   "nbconvert_exporter": "python",
   "pygments_lexer": "ipython3",
   "version": "3.5.4"
  }
 },
 "nbformat": 4,
 "nbformat_minor": 1
}
