{
 "cells": [
  {
   "cell_type": "code",
   "execution_count": 1,
   "metadata": {
    "collapsed": true
   },
   "outputs": [],
   "source": [
    "import numpy as np\n",
    "import random "
   ]
  },
  {
   "cell_type": "code",
   "execution_count": 5,
   "metadata": {},
   "outputs": [
    {
     "name": "stdout",
     "output_type": "stream",
     "text": [
      "[0.0007851604275122016, 0.00038392353290711117, 0.00031487694997038996, 0.0005252279028659548, 0.0002131489953503594]\n",
      "[520, 707, 790, 805, 805]\n",
      "[819, 531, 610, 861, 604]\n",
      "[6, 11, 17, 16, 13]\n",
      "['Bahdanau', 'Luong', 'Luong', 'Bahdanau', 'Bahdanau']\n"
     ]
    }
   ],
   "source": [
    "learning_rate = []\n",
    "embed_size = []\n",
    "hidden_size = []\n",
    "k_beam_search = []\n",
    "attention = []\n",
    "\n",
    "for i in range(5):\n",
    "    learning_rate.append(np.random.uniform(0.0001, 0.001))\n",
    "    embed_size.append(random.randint(500, 1001))\n",
    "    hidden_size.append(random.randint(512, 1024))\n",
    "    k_beam_search.append(random.randint(5, 18))\n",
    "    attention.append(random.choice((\"Bahdanau\", \"Luong\")))\n",
    "\n",
    "print(learning_rate)\n",
    "print(embed_size)\n",
    "print(hidden_size)\n",
    "print(k_beam_search)\n",
    "print(attention)"
   ]
  },
  {
   "cell_type": "code",
   "execution_count": 3,
   "metadata": {},
   "outputs": [
    {
     "name": "stdout",
     "output_type": "stream",
     "text": [
      "['Luong', 'Bahdanau', 'Bahdanau', 'Bahdanau', 'Bahdanau']\n"
     ]
    }
   ],
   "source": [
    "print(attention)"
   ]
  },
  {
   "cell_type": "code",
   "execution_count": null,
   "metadata": {
    "collapsed": true
   },
   "outputs": [],
   "source": []
  }
 ],
 "metadata": {
  "anaconda-cloud": {},
  "kernelspec": {
   "display_name": "Python 3",
   "language": "python",
   "name": "python3"
  },
  "language_info": {
   "codemirror_mode": {
    "name": "ipython",
    "version": 3
   },
   "file_extension": ".py",
   "mimetype": "text/x-python",
   "name": "python",
   "nbconvert_exporter": "python",
   "pygments_lexer": "ipython3",
   "version": "3.6.1"
  }
 },
 "nbformat": 4,
 "nbformat_minor": 1
}
