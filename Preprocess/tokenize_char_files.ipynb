{
 "cells": [
  {
   "cell_type": "code",
   "execution_count": 1,
   "metadata": {
    "collapsed": false
   },
   "outputs": [
    {
     "name": "stdout",
     "output_type": "stream",
     "text": [
      "Done reading file dev.fr.norm\n",
      "Done writing filedev.fr.norm.char\n",
      "Done reading file train.fr.norm\n",
      "Done writing filetrain.fr.norm.char\n",
      "Done reading file valid.fr.norm\n",
      "Done writing filevalid.fr.norm.char\n",
      "Done reading file tst2012.fr.norm\n",
      "Done writing filetst2012.fr.norm.char\n",
      "Done reading file tst2013.fr.norm\n",
      "Done writing filetst2013.fr.norm.char\n",
      "Done reading file tst2014.fr.norm\n",
      "Done writing filetst2014.fr.norm.char\n"
     ]
    }
   ],
   "source": [
    "# run this notebook in directory with language files\n",
    "mydir = \"/Users/eduardofierro/Google Drive/TercerSemetre/NLP/ProjectOwn/Data/Preprocess/\"\n",
    "\n",
    "def process_files(data_dir, file_name):\n",
    "    overall_lines = []\n",
    "    i = 0\n",
    "    with open(data_dir + file_name, 'r') as f:\n",
    "        for line in f:\n",
    "            #overall_lines.append(\" \".join(list(line.lower())))\n",
    "            overall_lines.append(\" \".join(list(line)))\n",
    "    print(\"Done reading file {}\".format(file_name))\n",
    "    with open(data_dir + file_name +'.char', 'w+') as f:\n",
    "        for x in overall_lines:\n",
    "            f.write(x)\n",
    "    print(\"Done writing file{}\".format(file_name+'.char'))\n",
    "    return\n",
    "\n",
    "\n",
    "process_files(mydir, 'dev.fr.norm')\n",
    "process_files(mydir, 'train.fr.norm')\n",
    "process_files(mydir, 'valid.fr.norm')\n",
    "process_files(mydir, 'tst2012.fr.norm')\n",
    "process_files(mydir, 'tst2013.fr.norm')\n",
    "process_files(mydir, 'tst2014.fr.norm')"
   ]
  },
  {
   "cell_type": "code",
   "execution_count": null,
   "metadata": {
    "collapsed": true
   },
   "outputs": [],
   "source": []
  }
 ],
 "metadata": {
  "anaconda-cloud": {},
  "kernelspec": {
   "display_name": "Python [conda root]",
   "language": "python",
   "name": "conda-root-py"
  },
  "language_info": {
   "codemirror_mode": {
    "name": "ipython",
    "version": 3
   },
   "file_extension": ".py",
   "mimetype": "text/x-python",
   "name": "python",
   "nbconvert_exporter": "python",
   "pygments_lexer": "ipython3",
   "version": "3.5.2"
  }
 },
 "nbformat": 4,
 "nbformat_minor": 2
}
