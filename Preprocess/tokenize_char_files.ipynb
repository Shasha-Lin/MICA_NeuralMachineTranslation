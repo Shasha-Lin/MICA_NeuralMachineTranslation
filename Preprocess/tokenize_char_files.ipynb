{
 "cells": [
  {
   "cell_type": "code",
   "execution_count": 9,
   "metadata": {},
   "outputs": [
    {
     "name": "stdout",
     "output_type": "stream",
     "text": [
      "Done reading file dev.fr.norm\n",
      "Done writing filedev.fr.norm.char\n",
      "Done reading file train.fr.norm\n",
      "Done writing filetrain.fr.norm.char\n",
      "Done reading file valid.fr.norm\n",
      "Done writing filevalid.fr.norm.char\n",
      "Done reading file tst2012.fr.norm\n",
      "Done writing filetst2012.fr.norm.char\n",
      "Done reading file tst2013.fr.norm\n",
      "Done writing filetst2013.fr.norm.char\n",
      "Done reading file tst2014.fr.norm\n",
      "Done writing filetst2014.fr.norm.char\n"
     ]
    }
   ],
   "source": [
    "# run this notebook in directory with language files\n",
    "\n",
    "def process_files(file_name):\n",
    "    overall_lines = []\n",
    "    i = 0\n",
    "    with open(file_name, 'r') as f:\n",
    "        for line in f:\n",
    "            overall_lines.append(\" \".join(list(line.lower())))\n",
    "            #overall_lines.append(\" \".join(list(line)))\n",
    "    print(\"Done reading file {}\".format(file_name))\n",
    "    with open(file_name+'.char', 'w+') as f:\n",
    "        for x in overall_lines:\n",
    "            f.write(x)\n",
    "    print(\"Done writing file{}\".format(file_name+'.char'))\n",
    "    return\n",
    "\n",
    "\n",
    "process_files('dev.fr.norm')\n",
    "process_files('train.fr.norm')\n",
    "process_files('valid.fr.norm')\n",
    "process_files('tst2012.fr.norm')\n",
    "process_files('tst2013.fr.norm')\n",
    "process_files('tst2014.fr.norm')\n"
   ]
  }
 ],
 "metadata": {
  "kernelspec": {
   "display_name": "Python [Root]",
   "language": "python",
   "name": "Python [Root]"
  },
  "language_info": {
   "codemirror_mode": {
    "name": "ipython",
    "version": 3
   },
   "file_extension": ".py",
   "mimetype": "text/x-python",
   "name": "python",
   "nbconvert_exporter": "python",
   "pygments_lexer": "ipython3",
   "version": "3.5.3"
  }
 },
 "nbformat": 4,
 "nbformat_minor": 2
}
