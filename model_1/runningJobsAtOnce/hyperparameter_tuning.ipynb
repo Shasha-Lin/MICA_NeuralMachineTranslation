{
 "cells": [
  {
   "cell_type": "code",
   "execution_count": 2,
   "metadata": {
    "collapsed": true
   },
   "outputs": [],
   "source": [
    "import numpy as np\n",
    "import random "
   ]
  },
  {
   "cell_type": "code",
   "execution_count": 4,
   "metadata": {
    "collapsed": false
   },
   "outputs": [
    {
     "name": "stdout",
     "output_type": "stream",
     "text": [
      "[0.0009315153414938238, 0.00038913744508851965, 0.0008296895479824608, 0.0005121536710643866, 0.0001446426394943073]\n",
      "[885, 667, 884, 733, 520]\n",
      "[805, 989, 845, 564, 550]\n",
      "[8, 15, 5, 12, 16]\n"
     ]
    }
   ],
   "source": [
    "learning_rate = []\n",
    "embed_size = []\n",
    "hidden_size = []\n",
    "k_beam_search = []\n",
    "\n",
    "\n",
    "for i in range(5):\n",
    "    learning_rate.append(np.random.uniform(0.0001, 0.001))\n",
    "    embed_size.append(random.randint(500, 1001))\n",
    "    hidden_size.append(random.randint(512, 1024))\n",
    "    k_beam_search.append(random.randint(5, 18))\n",
    "\n",
    "print(learning_rate)\n",
    "print(embed_size)\n",
    "print(hidden_size)\n",
    "print(k_beam_search)"
   ]
  }
 ],
 "metadata": {
  "anaconda-cloud": {},
  "kernelspec": {
   "display_name": "Python 3",
   "language": "python",
   "name": "python3"
  },
  "language_info": {
   "codemirror_mode": {
    "name": "ipython",
    "version": 3
   },
   "file_extension": ".py",
   "mimetype": "text/x-python",
   "name": "python",
   "nbconvert_exporter": "python",
   "pygments_lexer": "ipython3",
   "version": "3.5.4"
  }
 },
 "nbformat": 4,
 "nbformat_minor": 1
}
